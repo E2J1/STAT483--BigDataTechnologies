{
  "nbformat": 4,
  "nbformat_minor": 0,
  "metadata": {
    "colab": {
      "provenance": [],
      "gpuType": "V28"
    },
    "kernelspec": {
      "name": "python3",
      "display_name": "Python 3"
    },
    "language_info": {
      "name": "python"
    },
    "accelerator": "TPU"
  },
  "cells": [
    {
      "cell_type": "code",
      "execution_count": 4,
      "metadata": {
        "colab": {
          "base_uri": "https://localhost:8080/"
        },
        "id": "g6HkUJL8AFAd",
        "outputId": "2729c04b-977b-45b1-f12f-486655a7cf0f"
      },
      "outputs": [
        {
          "output_type": "stream",
          "name": "stdout",
          "text": [
            "Requirement already satisfied: pandas in /usr/local/lib/python3.11/dist-packages (2.2.2)\n",
            "Requirement already satisfied: numpy in /usr/local/lib/python3.11/dist-packages (2.0.2)\n",
            "Requirement already satisfied: seaborn in /usr/local/lib/python3.11/dist-packages (0.13.2)\n",
            "Requirement already satisfied: matplotlib in /usr/local/lib/python3.11/dist-packages (3.10.0)\n",
            "Requirement already satisfied: scikit-learn in /usr/local/lib/python3.11/dist-packages (1.6.1)\n",
            "Requirement already satisfied: pyspark in /usr/local/lib/python3.11/dist-packages (3.5.5)\n",
            "Requirement already satisfied: kagglehub in /usr/local/lib/python3.11/dist-packages (0.3.12)\n",
            "Requirement already satisfied: wordcloud in /usr/local/lib/python3.11/dist-packages (1.9.4)\n",
            "Requirement already satisfied: python-dateutil>=2.8.2 in /usr/local/lib/python3.11/dist-packages (from pandas) (2.9.0.post0)\n",
            "Requirement already satisfied: pytz>=2020.1 in /usr/local/lib/python3.11/dist-packages (from pandas) (2025.2)\n",
            "Requirement already satisfied: tzdata>=2022.7 in /usr/local/lib/python3.11/dist-packages (from pandas) (2025.2)\n",
            "Requirement already satisfied: contourpy>=1.0.1 in /usr/local/lib/python3.11/dist-packages (from matplotlib) (1.3.2)\n",
            "Requirement already satisfied: cycler>=0.10 in /usr/local/lib/python3.11/dist-packages (from matplotlib) (0.12.1)\n",
            "Requirement already satisfied: fonttools>=4.22.0 in /usr/local/lib/python3.11/dist-packages (from matplotlib) (4.57.0)\n",
            "Requirement already satisfied: kiwisolver>=1.3.1 in /usr/local/lib/python3.11/dist-packages (from matplotlib) (1.4.8)\n",
            "Requirement already satisfied: packaging>=20.0 in /usr/local/lib/python3.11/dist-packages (from matplotlib) (25.0)\n",
            "Requirement already satisfied: pillow>=8 in /usr/local/lib/python3.11/dist-packages (from matplotlib) (11.2.1)\n",
            "Requirement already satisfied: pyparsing>=2.3.1 in /usr/local/lib/python3.11/dist-packages (from matplotlib) (3.2.3)\n",
            "Requirement already satisfied: scipy>=1.6.0 in /usr/local/lib/python3.11/dist-packages (from scikit-learn) (1.15.2)\n",
            "Requirement already satisfied: joblib>=1.2.0 in /usr/local/lib/python3.11/dist-packages (from scikit-learn) (1.4.2)\n",
            "Requirement already satisfied: threadpoolctl>=3.1.0 in /usr/local/lib/python3.11/dist-packages (from scikit-learn) (3.6.0)\n",
            "Requirement already satisfied: py4j==0.10.9.7 in /usr/local/lib/python3.11/dist-packages (from pyspark) (0.10.9.7)\n",
            "Requirement already satisfied: pyyaml in /usr/local/lib/python3.11/dist-packages (from kagglehub) (6.0.2)\n",
            "Requirement already satisfied: requests in /usr/local/lib/python3.11/dist-packages (from kagglehub) (2.32.3)\n",
            "Requirement already satisfied: tqdm in /usr/local/lib/python3.11/dist-packages (from kagglehub) (4.67.1)\n",
            "Requirement already satisfied: six>=1.5 in /usr/local/lib/python3.11/dist-packages (from python-dateutil>=2.8.2->pandas) (1.17.0)\n",
            "Requirement already satisfied: charset-normalizer<4,>=2 in /usr/local/lib/python3.11/dist-packages (from requests->kagglehub) (3.4.1)\n",
            "Requirement already satisfied: idna<4,>=2.5 in /usr/local/lib/python3.11/dist-packages (from requests->kagglehub) (3.10)\n",
            "Requirement already satisfied: urllib3<3,>=1.21.1 in /usr/local/lib/python3.11/dist-packages (from requests->kagglehub) (2.4.0)\n",
            "Requirement already satisfied: certifi>=2017.4.17 in /usr/local/lib/python3.11/dist-packages (from requests->kagglehub) (2025.4.26)\n"
          ]
        }
      ],
      "source": [
        "!pip install pandas numpy seaborn matplotlib scikit-learn pyspark kagglehub wordcloud"
      ]
    },
    {
      "cell_type": "code",
      "source": [
        "import pandas as pd\n",
        "import numpy as np\n",
        "import seaborn as sns\n",
        "import matplotlib.pyplot as plt\n",
        "from pyspark.sql import SparkSession\n",
        "from pyspark.sql.functions import col, trim, lower, concat, lit, slice, rpad, when, size, array_repeat, explode, col, count, struct, array, concat_ws\n",
        "from pyspark.sql.types import ArrayType, IntegerType, DoubleType\n",
        "import kagglehub\n",
        "import os\n",
        "from pyspark.ml.feature import Tokenizer, StopWordsRemover, RegexTokenizer, VectorAssembler\n",
        "from transformers import BertTokenizerFast\n",
        "from pyspark.sql.functions import pandas_udf\n",
        "from pyspark.sql.functions import length\n",
        "from collections import Counter\n",
        "import matplotlib.pyplot as plt\n",
        "from wordcloud import WordCloud\n",
        "from pyspark.ml.feature import CountVectorizer, IDF\n",
        "from pyspark.ml.classification import LogisticRegression\n",
        "from pyspark.ml import Pipeline\n",
        "from pyspark.ml.evaluation import BinaryClassificationEvaluator\n",
        "from pyspark import SparkContext\n",
        "from pyspark.mllib.evaluation import MulticlassMetrics\n",
        "from sklearn.metrics import ConfusionMatrixDisplay\n",
        "from google.colab import files"
      ],
      "metadata": {
        "id": "zjtlxiqzAXlf"
      },
      "execution_count": 5,
      "outputs": []
    },
    {
      "cell_type": "code",
      "source": [
        "files.upload()\n",
        "os.makedirs(\"~/.kaggle\")\n",
        "os.rename(\"/content/kaggle.json\", \"~/.kaggle/kaggle.json\")\n",
        "path = kagglehub.dataset_download(\"kritanjalijain/amazon-reviews\")"
      ],
      "metadata": {
        "id": "43kcF8ExAXsJ",
        "colab": {
          "base_uri": "https://localhost:8080/",
          "height": 73
        },
        "outputId": "dc878907-a3ad-4d8a-b1c2-34ae2944e80d"
      },
      "execution_count": 6,
      "outputs": [
        {
          "output_type": "display_data",
          "data": {
            "text/plain": [
              "<IPython.core.display.HTML object>"
            ],
            "text/html": [
              "\n",
              "     <input type=\"file\" id=\"files-4f2047fe-3c34-41d8-b92a-93490cdab736\" name=\"files[]\" multiple disabled\n",
              "        style=\"border:none\" />\n",
              "     <output id=\"result-4f2047fe-3c34-41d8-b92a-93490cdab736\">\n",
              "      Upload widget is only available when the cell has been executed in the\n",
              "      current browser session. Please rerun this cell to enable.\n",
              "      </output>\n",
              "      <script>// Copyright 2017 Google LLC\n",
              "//\n",
              "// Licensed under the Apache License, Version 2.0 (the \"License\");\n",
              "// you may not use this file except in compliance with the License.\n",
              "// You may obtain a copy of the License at\n",
              "//\n",
              "//      http://www.apache.org/licenses/LICENSE-2.0\n",
              "//\n",
              "// Unless required by applicable law or agreed to in writing, software\n",
              "// distributed under the License is distributed on an \"AS IS\" BASIS,\n",
              "// WITHOUT WARRANTIES OR CONDITIONS OF ANY KIND, either express or implied.\n",
              "// See the License for the specific language governing permissions and\n",
              "// limitations under the License.\n",
              "\n",
              "/**\n",
              " * @fileoverview Helpers for google.colab Python module.\n",
              " */\n",
              "(function(scope) {\n",
              "function span(text, styleAttributes = {}) {\n",
              "  const element = document.createElement('span');\n",
              "  element.textContent = text;\n",
              "  for (const key of Object.keys(styleAttributes)) {\n",
              "    element.style[key] = styleAttributes[key];\n",
              "  }\n",
              "  return element;\n",
              "}\n",
              "\n",
              "// Max number of bytes which will be uploaded at a time.\n",
              "const MAX_PAYLOAD_SIZE = 100 * 1024;\n",
              "\n",
              "function _uploadFiles(inputId, outputId) {\n",
              "  const steps = uploadFilesStep(inputId, outputId);\n",
              "  const outputElement = document.getElementById(outputId);\n",
              "  // Cache steps on the outputElement to make it available for the next call\n",
              "  // to uploadFilesContinue from Python.\n",
              "  outputElement.steps = steps;\n",
              "\n",
              "  return _uploadFilesContinue(outputId);\n",
              "}\n",
              "\n",
              "// This is roughly an async generator (not supported in the browser yet),\n",
              "// where there are multiple asynchronous steps and the Python side is going\n",
              "// to poll for completion of each step.\n",
              "// This uses a Promise to block the python side on completion of each step,\n",
              "// then passes the result of the previous step as the input to the next step.\n",
              "function _uploadFilesContinue(outputId) {\n",
              "  const outputElement = document.getElementById(outputId);\n",
              "  const steps = outputElement.steps;\n",
              "\n",
              "  const next = steps.next(outputElement.lastPromiseValue);\n",
              "  return Promise.resolve(next.value.promise).then((value) => {\n",
              "    // Cache the last promise value to make it available to the next\n",
              "    // step of the generator.\n",
              "    outputElement.lastPromiseValue = value;\n",
              "    return next.value.response;\n",
              "  });\n",
              "}\n",
              "\n",
              "/**\n",
              " * Generator function which is called between each async step of the upload\n",
              " * process.\n",
              " * @param {string} inputId Element ID of the input file picker element.\n",
              " * @param {string} outputId Element ID of the output display.\n",
              " * @return {!Iterable<!Object>} Iterable of next steps.\n",
              " */\n",
              "function* uploadFilesStep(inputId, outputId) {\n",
              "  const inputElement = document.getElementById(inputId);\n",
              "  inputElement.disabled = false;\n",
              "\n",
              "  const outputElement = document.getElementById(outputId);\n",
              "  outputElement.innerHTML = '';\n",
              "\n",
              "  const pickedPromise = new Promise((resolve) => {\n",
              "    inputElement.addEventListener('change', (e) => {\n",
              "      resolve(e.target.files);\n",
              "    });\n",
              "  });\n",
              "\n",
              "  const cancel = document.createElement('button');\n",
              "  inputElement.parentElement.appendChild(cancel);\n",
              "  cancel.textContent = 'Cancel upload';\n",
              "  const cancelPromise = new Promise((resolve) => {\n",
              "    cancel.onclick = () => {\n",
              "      resolve(null);\n",
              "    };\n",
              "  });\n",
              "\n",
              "  // Wait for the user to pick the files.\n",
              "  const files = yield {\n",
              "    promise: Promise.race([pickedPromise, cancelPromise]),\n",
              "    response: {\n",
              "      action: 'starting',\n",
              "    }\n",
              "  };\n",
              "\n",
              "  cancel.remove();\n",
              "\n",
              "  // Disable the input element since further picks are not allowed.\n",
              "  inputElement.disabled = true;\n",
              "\n",
              "  if (!files) {\n",
              "    return {\n",
              "      response: {\n",
              "        action: 'complete',\n",
              "      }\n",
              "    };\n",
              "  }\n",
              "\n",
              "  for (const file of files) {\n",
              "    const li = document.createElement('li');\n",
              "    li.append(span(file.name, {fontWeight: 'bold'}));\n",
              "    li.append(span(\n",
              "        `(${file.type || 'n/a'}) - ${file.size} bytes, ` +\n",
              "        `last modified: ${\n",
              "            file.lastModifiedDate ? file.lastModifiedDate.toLocaleDateString() :\n",
              "                                    'n/a'} - `));\n",
              "    const percent = span('0% done');\n",
              "    li.appendChild(percent);\n",
              "\n",
              "    outputElement.appendChild(li);\n",
              "\n",
              "    const fileDataPromise = new Promise((resolve) => {\n",
              "      const reader = new FileReader();\n",
              "      reader.onload = (e) => {\n",
              "        resolve(e.target.result);\n",
              "      };\n",
              "      reader.readAsArrayBuffer(file);\n",
              "    });\n",
              "    // Wait for the data to be ready.\n",
              "    let fileData = yield {\n",
              "      promise: fileDataPromise,\n",
              "      response: {\n",
              "        action: 'continue',\n",
              "      }\n",
              "    };\n",
              "\n",
              "    // Use a chunked sending to avoid message size limits. See b/62115660.\n",
              "    let position = 0;\n",
              "    do {\n",
              "      const length = Math.min(fileData.byteLength - position, MAX_PAYLOAD_SIZE);\n",
              "      const chunk = new Uint8Array(fileData, position, length);\n",
              "      position += length;\n",
              "\n",
              "      const base64 = btoa(String.fromCharCode.apply(null, chunk));\n",
              "      yield {\n",
              "        response: {\n",
              "          action: 'append',\n",
              "          file: file.name,\n",
              "          data: base64,\n",
              "        },\n",
              "      };\n",
              "\n",
              "      let percentDone = fileData.byteLength === 0 ?\n",
              "          100 :\n",
              "          Math.round((position / fileData.byteLength) * 100);\n",
              "      percent.textContent = `${percentDone}% done`;\n",
              "\n",
              "    } while (position < fileData.byteLength);\n",
              "  }\n",
              "\n",
              "  // All done.\n",
              "  yield {\n",
              "    response: {\n",
              "      action: 'complete',\n",
              "    }\n",
              "  };\n",
              "}\n",
              "\n",
              "scope.google = scope.google || {};\n",
              "scope.google.colab = scope.google.colab || {};\n",
              "scope.google.colab._files = {\n",
              "  _uploadFiles,\n",
              "  _uploadFilesContinue,\n",
              "};\n",
              "})(self);\n",
              "</script> "
            ]
          },
          "metadata": {}
        },
        {
          "output_type": "stream",
          "name": "stdout",
          "text": [
            "Saving kaggle.json to kaggle.json\n"
          ]
        }
      ]
    },
    {
      "cell_type": "code",
      "source": [
        "print(path)"
      ],
      "metadata": {
        "colab": {
          "base_uri": "https://localhost:8080/"
        },
        "id": "4N8fc23OAXxN",
        "outputId": "dd85f403-0e83-4eef-cd1c-030c1ecdf949"
      },
      "execution_count": 7,
      "outputs": [
        {
          "output_type": "stream",
          "name": "stdout",
          "text": [
            "/kaggle/input/amazon-reviews\n"
          ]
        }
      ]
    },
    {
      "cell_type": "code",
      "source": [
        "#Initialize Spark session\n",
        "spark = SparkSession.builder.appName(\"AmazonReviewPolarity\") \\\n",
        "    .config(\"spark.driver.memory\", \"100g\") \\\n",
        "    .config(\"spark.executor.memory\", \"100g\") \\\n",
        "    .config(\"spark.executor.cores\", \"4\") \\\n",
        "    .config(\"spark.dynamicAllocation.enabled\", \"true\") \\\n",
        "    .config(\"spark.shuffle.spill\", \"true\") \\\n",
        "    .config(\"spark.sql.shuffle.partitions\", \"200\") \\\n",
        "    .getOrCreate()\n",
        "print(\"Apache Spark Initialized Successfully!\")"
      ],
      "metadata": {
        "colab": {
          "base_uri": "https://localhost:8080/"
        },
        "id": "12dgdZnVLnob",
        "outputId": "adbd65b8-b0a7-499d-f98b-42a8e4dc913b"
      },
      "execution_count": 8,
      "outputs": [
        {
          "output_type": "stream",
          "name": "stdout",
          "text": [
            "Apache Spark Initialized Successfully!\n"
          ]
        }
      ]
    },
    {
      "cell_type": "code",
      "source": [
        "# Read data\n",
        "train_df = spark.read.csv(f\"{path}/train.csv\", header=False, inferSchema=True)\n",
        "test_df = spark.read.csv(f\"{path}/test.csv\", header=False, inferSchema=True)"
      ],
      "metadata": {
        "id": "phrrpIrSArBi"
      },
      "execution_count": 9,
      "outputs": []
    },
    {
      "cell_type": "code",
      "source": [
        "#Rename columns\n",
        "train_df_columns, test_df_columns = train_df.columns, test_df.columns\n",
        "\n",
        "train_df = train_df.withColumnRenamed(\"_c0\", \"label\") \\\n",
        "                   .withColumnRenamed(\"_c1\", \"title\") \\\n",
        "                   .withColumnRenamed(\"_c2\", \"body\")\n",
        "\n",
        "test_df = test_df.withColumnRenamed(\"_c0\", \"label\") \\\n",
        "                 .withColumnRenamed(\"_c1\", \"title\") \\\n",
        "                 .withColumnRenamed(\"_c2\", \"body\")"
      ],
      "metadata": {
        "id": "w6OklYRTAq_W"
      },
      "execution_count": 10,
      "outputs": []
    },
    {
      "cell_type": "code",
      "source": [
        "# Show 5 instances of data\n",
        "train_df.show(5, truncate=100)\n",
        "test_df.show(5, truncate=100)"
      ],
      "metadata": {
        "id": "S8uVd7zeAq8m",
        "colab": {
          "base_uri": "https://localhost:8080/"
        },
        "outputId": "517a22ad-a71c-439b-90f6-b7f768e9ca61"
      },
      "execution_count": 11,
      "outputs": [
        {
          "output_type": "stream",
          "name": "stdout",
          "text": [
            "+-----+------------------------------------------------------+----------------------------------------------------------------------------------------------------+\n",
            "|label|                                                 title|                                                                                                body|\n",
            "+-----+------------------------------------------------------+----------------------------------------------------------------------------------------------------+\n",
            "|    2|                        Stuning even for the non-gamer|This sound track was beautiful! It paints the senery in your mind so well I would recomend it eve...|\n",
            "|    2|                 The best soundtrack ever to anything.|I'm reading a lot of reviews saying that this is the best 'game soundtrack' and I figured that I'...|\n",
            "|    2|                                              Amazing!|\"This soundtrack is my favorite music of all time, hands down. The intense sadness of \"\"Prisoners...|\n",
            "|    2|                                  Excellent Soundtrack|I truly like this soundtrack and I enjoy video game music. I have played this game and most of th...|\n",
            "|    2|Remember, Pull Your Jaw Off The Floor After Hearing it|If you've played the game, you know how divine the music is! Every single song tells a story of t...|\n",
            "+-----+------------------------------------------------------+----------------------------------------------------------------------------------------------------+\n",
            "only showing top 5 rows\n",
            "\n",
            "+-----+------------------------------------------------------------------------+----------------------------------------------------------------------------------------------------+\n",
            "|label|                                                                   title|                                                                                                body|\n",
            "+-----+------------------------------------------------------------------------+----------------------------------------------------------------------------------------------------+\n",
            "|    2|                                                                Great CD|\"My lovely Pat has one of the GREAT voices of her generation. I have listened to this CD for YEAR...|\n",
            "|    2|One of the best game music soundtracks - for a game I didn't really play|Despite the fact that I have only played a small portion of the game, the music I heard (plus the...|\n",
            "|    1|                                        Batteries died within a year ...|I bought this charger in Jul 2003 and it worked OK for a while. The design is nice and convenient...|\n",
            "|    2|                                   works fine, but Maha Energy is better|Check out Maha Energy's website. Their Powerex MH-C204F charger works in 100 minutes for rapid ch...|\n",
            "|    2|                                            Great for the non-audiophile|Reviewed quite a bit of the combo players and was hesitant due to unfavorable reviews and size of...|\n",
            "+-----+------------------------------------------------------------------------+----------------------------------------------------------------------------------------------------+\n",
            "only showing top 5 rows\n",
            "\n"
          ]
        }
      ]
    },
    {
      "cell_type": "code",
      "source": [
        "# Drop NA values in Data\n",
        "train_df = train_df.dropna().dropDuplicates() \\\n",
        "             .withColumn(\"title\", trim(col(\"title\"))) \\\n",
        "             .withColumn(\"body\", trim(col(\"body\")))\n",
        "test_df = test_df.dropna().dropDuplicates() \\\n",
        "             .withColumn(\"title\", trim(col(\"title\"))) \\\n",
        "             .withColumn(\"body\", trim(col(\"body\")))"
      ],
      "metadata": {
        "id": "xhpZTUTlAq6L"
      },
      "execution_count": 12,
      "outputs": []
    },
    {
      "cell_type": "code",
      "source": [
        "train_df_try = train_df\n",
        "test_df_try = test_df"
      ],
      "metadata": {
        "id": "z8r5wG7ATHp0"
      },
      "execution_count": 13,
      "outputs": []
    },
    {
      "cell_type": "code",
      "source": [
        "# Perform initial data cleaning\n",
        "train_df_cleaned = train_df.dropna().dropDuplicates() \\\n",
        "    .withColumn(\"title\", trim(col(\"title\"))) \\\n",
        "    .withColumn(\"body\", trim(col(\"body\")))"
      ],
      "metadata": {
        "id": "Z0a4wtJHgmJH"
      },
      "execution_count": 14,
      "outputs": []
    },
    {
      "cell_type": "code",
      "source": [
        "# Repartition the cleaned training DataFrame\n",
        "train_partitioned_df = train_df_cleaned.repartition(5)"
      ],
      "metadata": {
        "id": "SYu32GGiggyp"
      },
      "execution_count": 15,
      "outputs": []
    },
    {
      "cell_type": "code",
      "source": [
        "# Find number of records in each partition\n",
        "train_partition_sizes = train_partitioned_df.rdd.glom().map(len).collect()"
      ],
      "metadata": {
        "id": "Y8wtuc3qggwJ"
      },
      "execution_count": 16,
      "outputs": []
    },
    {
      "cell_type": "code",
      "source": [
        "# Plot the number of instances in each partition\n",
        "\n",
        "print(\"\\nTraining Data Distribution Across Partitions:\")\n",
        "print(train_partition_sizes)\n",
        "\n",
        "plt.figure(figsize=(8, 5))\n",
        "sns.barplot(x=list(range(1, len(train_partition_sizes) + 1)),\n",
        "            y=train_partition_sizes, palette='coolwarm')\n",
        "plt.xlabel(\"Partition Number\")\n",
        "plt.ylabel(\"Number of Records\")\n",
        "plt.title(\"Training Data Distribution Across Partitions\")\n",
        "plt.show()"
      ],
      "metadata": {
        "colab": {
          "base_uri": "https://localhost:8080/",
          "height": 633
        },
        "id": "bVgpA4u5ggqe",
        "outputId": "3262bce4-f85c-4f84-efbf-4fb327fd822c"
      },
      "execution_count": 17,
      "outputs": [
        {
          "output_type": "stream",
          "name": "stdout",
          "text": [
            "\n",
            "Training Data Distribution Across Partitions:\n",
            "[719932, 719931, 719920, 719917, 719922]\n"
          ]
        },
        {
          "output_type": "stream",
          "name": "stderr",
          "text": [
            "<ipython-input-17-ab8e8215ec0b>:7: FutureWarning: \n",
            "\n",
            "Passing `palette` without assigning `hue` is deprecated and will be removed in v0.14.0. Assign the `x` variable to `hue` and set `legend=False` for the same effect.\n",
            "\n",
            "  sns.barplot(x=list(range(1, len(train_partition_sizes) + 1)),\n"
          ]
        },
        {
          "output_type": "display_data",
          "data": {
            "text/plain": [
              "<Figure size 800x500 with 1 Axes>"
            ],
            "image/png": "[encoded data removed]"
          },
          "metadata": {}
        }
      ]
    },
    {
      "cell_type": "code",
      "source": [
        "# Replace classes of 1 and 2 with 0 and 1 for easier interpretation\n",
        "train_df = train_df.withColumn(\"label\", when(col(\"label\") == 1, 0).otherwise(1))\n",
        "test_df = test_df.withColumn(\"label\", when(col(\"label\") == 1, 0).otherwise(1))\n",
        "train_df.select(\"label\").distinct().show()\n",
        "test_df.select(\"label\").distinct().show()"
      ],
      "metadata": {
        "colab": {
          "base_uri": "https://localhost:8080/"
        },
        "id": "_RA5MAamTJI7",
        "outputId": "b051d3ee-cc56-4ca2-d413-407df1c6ec32"
      },
      "execution_count": 18,
      "outputs": [
        {
          "output_type": "stream",
          "name": "stdout",
          "text": [
            "+-----+\n",
            "|label|\n",
            "+-----+\n",
            "|    1|\n",
            "|    0|\n",
            "+-----+\n",
            "\n",
            "+-----+\n",
            "|label|\n",
            "+-----+\n",
            "|    1|\n",
            "|    0|\n",
            "+-----+\n",
            "\n"
          ]
        }
      ]
    },
    {
      "cell_type": "code",
      "source": [
        "# Print first 5 rows to confirm the change\n",
        "train_df.show(5, truncate=50)\n",
        "test_df.show(5, truncate=100)"
      ],
      "metadata": {
        "colab": {
          "base_uri": "https://localhost:8080/"
        },
        "id": "QfAICo8-TSFo",
        "outputId": "4345996f-3746-4306-97a5-22bd14a6abb9"
      },
      "execution_count": 19,
      "outputs": [
        {
          "output_type": "stream",
          "name": "stdout",
          "text": [
            "+-----+--------------------------------------------------+--------------------------------------------------+\n",
            "|label|                                             title|                                              body|\n",
            "+-----+--------------------------------------------------+--------------------------------------------------+\n",
            "|    0|                                        NOT FUNNY!|This is what Hollywood is calling humor these d...|\n",
            "|    0|                                    Edge of Danger|Somebody from higher places should have stopped...|\n",
            "|    1|                       Great classic for the price|For a first time reading of this classic I reco...|\n",
            "|    1|                                         Great Buy|I was looking for clarity and a picture that wo...|\n",
            "|    0|The adapter shown is not the one that was shipped.|I received a different adapter so I cannot real...|\n",
            "+-----+--------------------------------------------------+--------------------------------------------------+\n",
            "only showing top 5 rows\n",
            "\n",
            "+-----+-----------------------------------------+----------------------------------------------------------------------------------------------------+\n",
            "|label|                                    title|                                                                                                body|\n",
            "+-----+-----------------------------------------+----------------------------------------------------------------------------------------------------+\n",
            "|    1|  Unique Weird Orientalia from the 1930's|                                         \"Exotic tales of the Orient from the 1930's. \"\"Dr Shen Fu\"\"|\n",
            "|    1|Heads above the first book in the trilogy|I was so disappointed in the first book, Foundation, I gave it two stars. I've been wanting to re...|\n",
            "|    1| Persuasive book with an unusual approach|The book details many or most of the important dynamics of the war as it took place within a sing...|\n",
            "|    1|                     Great Bed for Guests|Bought this for my Grandson to sleep on when the family came to visit over Christmas. It is wonde...|\n",
            "|    1|                             good printer|I have bought this printer for my personal use at home.It is good and reliable printer for the pr...|\n",
            "+-----+-----------------------------------------+----------------------------------------------------------------------------------------------------+\n",
            "only showing top 5 rows\n",
            "\n"
          ]
        }
      ]
    },
    {
      "cell_type": "code",
      "source": [
        "# Make all words small letter for making tokenization better in later part\n",
        "train_df = train_df.withColumn(\"title_lower\", lower(col(\"title\"))) \\\n",
        "    .withColumn(\"body_lower\", lower(col(\"body\")))\n",
        "\n",
        "test_df = test_df.withColumn(\"title_lower\", lower(col(\"title\"))) \\\n",
        "    .withColumn(\"body_lower\", lower(col(\"body\")))"
      ],
      "metadata": {
        "id": "gbhL4VPPHN_p"
      },
      "execution_count": 20,
      "outputs": []
    },
    {
      "cell_type": "code",
      "source": [
        "# Tokenize the title\n",
        "tokenizer_title = RegexTokenizer(inputCol=\"title_lower\", outputCol=\"title_tokens\", pattern=\"\\\\W+\")\n",
        "train_df = tokenizer_title.transform(train_df)\n",
        "test_df = tokenizer_title.transform(test_df)"
      ],
      "metadata": {
        "id": "k5FYhK7PAq3I"
      },
      "execution_count": 21,
      "outputs": []
    },
    {
      "cell_type": "code",
      "source": [
        "# Tokenize the body\n",
        "\n",
        "tokenizer_body = RegexTokenizer(inputCol=\"body_lower\", outputCol=\"body_tokens\", pattern=\"\\\\W+\")\n",
        "train_df = tokenizer_body.transform(train_df)\n",
        "test_df = tokenizer_body.transform(test_df)"
      ],
      "metadata": {
        "id": "8GE2N0kZAq0s"
      },
      "execution_count": 22,
      "outputs": []
    },
    {
      "cell_type": "code",
      "source": [
        "# Remove stop words from title\n",
        "stop_words_remover_title = StopWordsRemover(inputCol=\"title_tokens\", outputCol=\"title_clean\")\n",
        "train_df = stop_words_remover_title.transform(train_df)\n",
        "test_df = stop_words_remover_title.transform(test_df)"
      ],
      "metadata": {
        "id": "zAgCsiw_Aqx5"
      },
      "execution_count": 23,
      "outputs": []
    },
    {
      "cell_type": "code",
      "source": [
        "# Remove stop words from body\n",
        "stop_words_remover_body = StopWordsRemover(inputCol=\"body_tokens\", outputCol=\"body_clean\")\n",
        "train_df = stop_words_remover_body.transform(train_df)\n",
        "test_df = stop_words_remover_body.transform(test_df)"
      ],
      "metadata": {
        "id": "_WrD-jC-AqvO"
      },
      "execution_count": 24,
      "outputs": []
    },
    {
      "cell_type": "code",
      "source": [
        "train_df.show(5, truncate=100)\n",
        "test_df.show(5, truncate=100)"
      ],
      "metadata": {
        "id": "cBC5D107AqtC",
        "colab": {
          "base_uri": "https://localhost:8080/"
        },
        "outputId": "e564259d-52da-4fff-8b97-3b4653a08dc1"
      },
      "execution_count": 25,
      "outputs": [
        {
          "output_type": "stream",
          "name": "stdout",
          "text": [
            "+-----+--------------------------------------------------+----------------------------------------------------------------------------------------------------+--------------------------------------------------+----------------------------------------------------------------------------------------------------+------------------------------------------------------------+----------------------------------------------------------------------------------------------------+------------------------------+----------------------------------------------------------------------------------------------------+\n",
            "|label|                                             title|                                                                                                body|                                       title_lower|                                                                                          body_lower|                                                title_tokens|                                                                                         body_tokens|                   title_clean|                                                                                          body_clean|\n",
            "+-----+--------------------------------------------------+----------------------------------------------------------------------------------------------------+--------------------------------------------------+----------------------------------------------------------------------------------------------------+------------------------------------------------------------+----------------------------------------------------------------------------------------------------+------------------------------+----------------------------------------------------------------------------------------------------+\n",
            "|    0|                                        NOT FUNNY!|This is what Hollywood is calling humor these days? Must of been written by the lowly out of work...|                                        not funny!|this is what hollywood is calling humor these days? must of been written by the lowly out of work...|                                                [not, funny]|[this, is, what, hollywood, is, calling, humor, these, days, must, of, been, written, by, the, lo...|                       [funny]|[hollywood, calling, humor, days, must, written, lowly, work, writers, strike, crude, demeaning, ...|\n",
            "|    0|                                    Edge of Danger|Somebody from higher places should have stopped Mr. Higgins and the publisher from putting this b...|                                    edge of danger|somebody from higher places should have stopped mr. higgins and the publisher from putting this b...|                                          [edge, of, danger]|[somebody, from, higher, places, should, have, stopped, mr, higgins, and, the, publisher, from, p...|                [edge, danger]|[somebody, higher, places, stopped, mr, higgins, publisher, putting, book, market, quite, disturb...|\n",
            "|    1|                       Great classic for the price|For a first time reading of this classic I recommend this. If you love it you may want a nicer ve...|                       great classic for the price|for a first time reading of this classic i recommend this. if you love it you may want a nicer ve...|                           [great, classic, for, the, price]|[for, a, first, time, reading, of, this, classic, i, recommend, this, if, you, love, it, you, may...|       [great, classic, price]|[first, time, reading, classic, recommend, love, may, want, nicer, version, bookshelf, nice, qual...|\n",
            "|    1|                                         Great Buy|I was looking for clarity and a picture that would completely fill my HD television screen withou...|                                         great buy|i was looking for clarity and a picture that would completely fill my hd television screen withou...|                                                [great, buy]|[i, was, looking, for, clarity, and, a, picture, that, would, completely, fill, my, hd, televisio...|                  [great, buy]|[looking, clarity, picture, completely, fill, hd, television, screen, without, manipulation, foun...|\n",
            "|    0|The adapter shown is not the one that was shipped.|I received a different adapter so I cannot really tell you about the Macally adapter. I received ...|the adapter shown is not the one that was shipped.|i received a different adapter so i cannot really tell you about the macally adapter. i received ...|[the, adapter, shown, is, not, the, one, that, was, shipped]|[i, received, a, different, adapter, so, i, cannot, really, tell, you, about, the, macally, adapt...|[adapter, shown, one, shipped]|[received, different, adapter, really, tell, macally, adapter, received, adapter, inspire, longer...|\n",
            "+-----+--------------------------------------------------+----------------------------------------------------------------------------------------------------+--------------------------------------------------+----------------------------------------------------------------------------------------------------+------------------------------------------------------------+----------------------------------------------------------------------------------------------------+------------------------------+----------------------------------------------------------------------------------------------------+\n",
            "only showing top 5 rows\n",
            "\n",
            "+-----+-----------------------------------------+----------------------------------------------------------------------------------------------------+-----------------------------------------+----------------------------------------------------------------------------------------------------+--------------------------------------------------+----------------------------------------------------------------------------------------------------+-------------------------------------+----------------------------------------------------------------------------------------------------+\n",
            "|label|                                    title|                                                                                                body|                              title_lower|                                                                                          body_lower|                                      title_tokens|                                                                                         body_tokens|                          title_clean|                                                                                          body_clean|\n",
            "+-----+-----------------------------------------+----------------------------------------------------------------------------------------------------+-----------------------------------------+----------------------------------------------------------------------------------------------------+--------------------------------------------------+----------------------------------------------------------------------------------------------------+-------------------------------------+----------------------------------------------------------------------------------------------------+\n",
            "|    1|  Unique Weird Orientalia from the 1930's|                                         \"Exotic tales of the Orient from the 1930's. \"\"Dr Shen Fu\"\"|  unique weird orientalia from the 1930's|                                         \"exotic tales of the orient from the 1930's. \"\"dr shen fu\"\"|   [unique, weird, orientalia, from, the, 1930, s]|                                  [exotic, tales, of, the, orient, from, the, 1930, s, dr, shen, fu]|    [unique, weird, orientalia, 1930]|                                                         [exotic, tales, orient, 1930, dr, shen, fu]|\n",
            "|    1|Heads above the first book in the trilogy|I was so disappointed in the first book, Foundation, I gave it two stars. I've been wanting to re...|heads above the first book in the trilogy|i was so disappointed in the first book, foundation, i gave it two stars. i've been wanting to re...|[heads, above, the, first, book, in, the, trilogy]|[i, was, so, disappointed, in, the, first, book, foundation, i, gave, it, two, stars, i, ve, been...|        [heads, first, book, trilogy]|[disappointed, first, book, foundation, gave, two, stars, ve, wanting, read, trilogy, years, coul...|\n",
            "|    1| Persuasive book with an unusual approach|The book details many or most of the important dynamics of the war as it took place within a sing...| persuasive book with an unusual approach|the book details many or most of the important dynamics of the war as it took place within a sing...|   [persuasive, book, with, an, unusual, approach]|[the, book, details, many, or, most, of, the, important, dynamics, of, the, war, as, it, took, pl...|[persuasive, book, unusual, approach]|[book, details, many, important, dynamics, war, took, place, within, single, provice, process, be...|\n",
            "|    1|                     Great Bed for Guests|Bought this for my Grandson to sleep on when the family came to visit over Christmas. It is wonde...|                     great bed for guests|bought this for my grandson to sleep on when the family came to visit over christmas. it is wonde...|                         [great, bed, for, guests]|[bought, this, for, my, grandson, to, sleep, on, when, the, family, came, to, visit, over, christ...|                 [great, bed, guests]|[bought, grandson, sleep, family, came, visit, christmas, wonderful, super, easy, inflate, deflat...|\n",
            "|    1|                             good printer|I have bought this printer for my personal use at home.It is good and reliable printer for the pr...|                             good printer|i have bought this printer for my personal use at home.it is good and reliable printer for the pr...|                                   [good, printer]|[i, have, bought, this, printer, for, my, personal, use, at, home, it, is, good, and, reliable, p...|                      [good, printer]|[bought, printer, personal, use, home, good, reliable, printer, price, somehow, arrived, software...|\n",
            "+-----+-----------------------------------------+----------------------------------------------------------------------------------------------------+-----------------------------------------+----------------------------------------------------------------------------------------------------+--------------------------------------------------+----------------------------------------------------------------------------------------------------+-------------------------------------+----------------------------------------------------------------------------------------------------+\n",
            "only showing top 5 rows\n",
            "\n"
          ]
        }
      ]
    },
    {
      "cell_type": "code",
      "source": [
        "# convert text to bag-of-words\n",
        "from pyspark.ml.feature import CountVectorizer\n",
        "\n",
        "count_vect_body = CountVectorizer(inputCol=\"body_clean\", outputCol=\"body_bow\")\n",
        "cv_model = count_vect_body.fit(train_df)\n",
        "bow_df = cv_model.transform(train_df)"
      ],
      "metadata": {
        "id": "2d7rZwCIlTwb"
      },
      "execution_count": 26,
      "outputs": []
    },
    {
      "cell_type": "code",
      "source": [
        "bow_df.select(\"body\", \"body_clean\" ,\"body_bow\").show(5, truncate=False)"
      ],
      "metadata": {
        "colab": {
          "base_uri": "https://localhost:8080/"
        },
        "id": "PdUwlh-VmBnA",
        "outputId": "b964b64e-0685-4c39-b4d0-e4a78e3a8188"
      },
      "execution_count": 27,
      "outputs": [
        {
          "output_type": "stream",
          "name": "stdout",
          "text": [
            "+--------------------------------------------------------------------------------------------------------------------------------------------------------------------------------------------------------------------------------------------------------------------------------------------------------------------------------------------------------------------------------------------------------------------------------------------------------------------------------------------------------------------------------------------------------------------------------------------------------------------------------------------------------------------------------------------------------------------------------------------------------------------------------------------------------------------------------+----------------------------------------------------------------------------------------------------------------------------------------------------------------------------------------------------------------------------------------------------------------------------------------------------------------------------------------------------------------------------------------------------------------------------------------------------------------------------------------------------------------------------------------------------------------------------------+-------------------------------------------------------------------------------------------------------------------------------------------------------------------------------------------------------------------------------------------------------------------------------------------------------------------------------------------------------------------------------------------------------------------------------------------------------------------------------------------------------------------------------------------------------+\n",
            "|body                                                                                                                                                                                                                                                                                                                                                                                                                                                                                                                                                                                                                                                                                                                                                                                                                            |body_clean                                                                                                                                                                                                                                                                                                                                                                                                                                                                                                                                                                        |body_bow                                                                                                                                                                                                                                                                                                                                                                                                                                                                                                                                               |\n",
            "+--------------------------------------------------------------------------------------------------------------------------------------------------------------------------------------------------------------------------------------------------------------------------------------------------------------------------------------------------------------------------------------------------------------------------------------------------------------------------------------------------------------------------------------------------------------------------------------------------------------------------------------------------------------------------------------------------------------------------------------------------------------------------------------------------------------------------------+----------------------------------------------------------------------------------------------------------------------------------------------------------------------------------------------------------------------------------------------------------------------------------------------------------------------------------------------------------------------------------------------------------------------------------------------------------------------------------------------------------------------------------------------------------------------------------+-------------------------------------------------------------------------------------------------------------------------------------------------------------------------------------------------------------------------------------------------------------------------------------------------------------------------------------------------------------------------------------------------------------------------------------------------------------------------------------------------------------------------------------------------------+\n",
            "|This is what Hollywood is calling humor these days? Must of been written by the lowly out of work writers during their strike! Crude, demeaning and a waste of my time!                                                                                                                                                                                                                                                                                                                                                                                                                                                                                                                                                                                                                                                         |[hollywood, calling, humor, days, must, written, lowly, work, writers, strike, crude, demeaning, waste, time]                                                                                                                                                                                                                                                                                                                                                                                                                                                                     |(262144,[7,22,103,116,134,181,716,1318,1536,2252,5148,5195,17221,24358],[1.0,1.0,1.0,1.0,1.0,1.0,1.0,1.0,1.0,1.0,1.0,1.0,1.0,1.0])                                                                                                                                                                                                                                                                                                                                                                                                                     |\n",
            "|Somebody from higher places should have stopped Mr. Higgins and the publisher from putting this book on the market.It¡s quite disturbing to see the absence of integrity and sense of responsibility in providing a joy of reading to the public.All along, I had fight off the growing urge of disposing this disastrous novel only because the shipping charge cost more than the book itself.Yet, once I overcame my frustration and finished the book, I regretted not heeding to my senses.It¡s obvious that Mr. Higgins had no heart in writing this book, and he made no effort in showing creativity with words.I was about to scream my head off when he kept rehashing the same phrases (e.g., browning with carswell silencer) over and over again in every single chapter!!This book made me a true anti-Higgins....|[somebody, higher, places, stopped, mr, higgins, publisher, putting, book, market, quite, disturbing, see, absence, integrity, sense, responsibility, providing, joy, reading, public, along, fight, growing, urge, disposing, disastrous, novel, shipping, charge, cost, book, yet, overcame, frustration, finished, book, regretted, heeding, senses, obvious, mr, higgins, heart, writing, book, made, effort, showing, creativity, words, scream, head, kept, rehashing, phrases, e, g, browning, carswell, silencer, every, single, chapter, book, made, true, anti, higgins]|(262144,[0,42,43,60,65,161,174,187,241,268,317,374,419,433,441,442,450,456,487,511,528,558,583,690,714,778,786,885,949,1092,1200,1208,1385,1423,1472,1674,1705,1719,1892,2398,2415,2829,3134,3180,3605,3822,4666,5321,5361,6518,7406,9420,9425,13913,14325,14630,15922,30254,32254,58784,120379],[5.0,1.0,2.0,1.0,1.0,1.0,1.0,1.0,1.0,1.0,1.0,1.0,1.0,2.0,1.0,1.0,1.0,1.0,1.0,1.0,1.0,1.0,1.0,1.0,1.0,1.0,1.0,1.0,1.0,1.0,1.0,1.0,1.0,1.0,1.0,1.0,1.0,1.0,1.0,1.0,1.0,1.0,1.0,1.0,1.0,1.0,1.0,1.0,1.0,1.0,1.0,1.0,3.0,1.0,1.0,1.0,1.0,1.0,1.0,1.0,1.0])|\n",
            "|For a first time reading of this classic I recommend this. If you love it you may want a nicer version for the bookshelf. This is a nice quality book though. The printing isn't too small, and neither is the book. It fits right in my paperback bookshelf perfectly with others just like it.And as for the story, I could go on many pages. Just do a few searches for reviews, it's a classic that will outlive all of us and has a lot to say about human beings and our culture, past and future.One of the best Classics, great one to get started on or to read over and over again.                                                                                                                                                                                                                                   |[first, time, reading, classic, recommend, love, may, want, nicer, version, bookshelf, nice, quality, book, though, printing, isn, small, neither, book, fits, right, paperback, bookshelf, perfectly, others, like, story, go, many, pages, searches, reviews, classic, outlive, us, lot, say, human, beings, culture, past, future, one, best, classics, great, one, get, started, read]                                                                                                                                                                                        |(262144,[0,1,2,4,5,6,7,11,14,26,28,29,49,52,57,60,61,62,75,90,108,114,121,137,139,146,151,212,214,225,265,358,375,682,692,748,816,1279,1376,1875,2217,2539,4663,5390,5669,10048,38190],[2.0,2.0,1.0,1.0,1.0,1.0,1.0,1.0,1.0,1.0,1.0,1.0,1.0,1.0,1.0,1.0,1.0,1.0,1.0,1.0,1.0,1.0,1.0,1.0,1.0,1.0,1.0,1.0,1.0,1.0,1.0,1.0,2.0,1.0,1.0,1.0,1.0,1.0,1.0,1.0,1.0,1.0,1.0,2.0,1.0,1.0,1.0])                                                                                                                                                                  |\n",
            "|I was looking for clarity and a picture that would completely fill my HD television screen without manipulation. I found it with this DVD and couldn't be happier.                                                                                                                                                                                                                                                                                                                                                                                                                                                                                                                                                                                                                                                              |[looking, clarity, picture, completely, fill, hd, television, screen, without, manipulation, found, dvd, couldn, happier]                                                                                                                                                                                                                                                                                                                                                                                                                                                         |(262144,[56,58,87,110,218,284,305,470,1398,1756,1782,2863,3069,10212],[1.0,1.0,1.0,1.0,1.0,1.0,1.0,1.0,1.0,1.0,1.0,1.0,1.0,1.0])                                                                                                                                                                                                                                                                                                                                                                                                                       |\n",
            "|I received a different adapter so I cannot really tell you about the Macally adapter. I received an adapter from Inspire and it does not have the longer cord, the velcro strap or the led lights. But it does charge my computer and it arrived quickly.                                                                                                                                                                                                                                                                                                                                                                                                                                                                                                                                                                       |[received, different, adapter, really, tell, macally, adapter, received, adapter, inspire, longer, cord, velcro, strap, led, lights, charge, computer, arrived, quickly]                                                                                                                                                                                                                                                                                                                                                                                                          |(262144,[8,106,180,286,352,395,410,431,714,1054,1265,1394,1550,1765,3158,4997,25212],[1.0,1.0,2.0,1.0,1.0,1.0,1.0,1.0,1.0,1.0,3.0,1.0,1.0,1.0,1.0,1.0,1.0])                                                                                                                                                                                                                                                                                                                                                                                            |\n",
            "+--------------------------------------------------------------------------------------------------------------------------------------------------------------------------------------------------------------------------------------------------------------------------------------------------------------------------------------------------------------------------------------------------------------------------------------------------------------------------------------------------------------------------------------------------------------------------------------------------------------------------------------------------------------------------------------------------------------------------------------------------------------------------------------------------------------------------------+----------------------------------------------------------------------------------------------------------------------------------------------------------------------------------------------------------------------------------------------------------------------------------------------------------------------------------------------------------------------------------------------------------------------------------------------------------------------------------------------------------------------------------------------------------------------------------+-------------------------------------------------------------------------------------------------------------------------------------------------------------------------------------------------------------------------------------------------------------------------------------------------------------------------------------------------------------------------------------------------------------------------------------------------------------------------------------------------------------------------------------------------------+\n",
            "only showing top 5 rows\n",
            "\n"
          ]
        }
      ]
    },
    {
      "cell_type": "code",
      "source": [
        "# show most frequent word\n",
        "vocab = cv_model.vocabulary\n",
        "print(\"First 10 terms (by frequency):\", vocab[:10])\n",
        "print(\"Vocabulary size:\", len(vocab))"
      ],
      "metadata": {
        "colab": {
          "base_uri": "https://localhost:8080/"
        },
        "id": "8B-bWP37lZc4",
        "outputId": "e4e7f00b-bd4c-4413-f15b-a878d3a5af32"
      },
      "execution_count": 28,
      "outputs": [
        {
          "output_type": "stream",
          "name": "stdout",
          "text": [
            "First 10 terms (by frequency): ['book', 'one', 'like', 'good', 'great', 'get', 'read', 'time', 'really', 'movie']\n",
            "Vocabulary size: 262144\n"
          ]
        }
      ]
    },
    {
      "cell_type": "code",
      "source": [
        "# Take a small sample\n",
        "from pyspark.sql import functions as F\n",
        "df_small = bow_df.orderBy(F.rand(seed=42)).limit(10000)"
      ],
      "metadata": {
        "id": "N_msoMKcleVh"
      },
      "execution_count": 29,
      "outputs": []
    },
    {
      "cell_type": "code",
      "source": [
        "## KMeans model for multiple k to collect SSE for elbow method\n",
        "from pyspark.ml.clustering import KMeans\n",
        "k_values = range(4,17,4)\n",
        "SSE_results = []\n",
        "\n",
        "for k in k_values:\n",
        "    kmeans = KMeans(\n",
        "        k=k,\n",
        "        initMode=\"k-means||\",\n",
        "        maxIter=20,\n",
        "        tol=1e-3,\n",
        "        seed=2,\n",
        "        featuresCol=\"body_bow\"\n",
        "    )\n",
        "    model = kmeans.fit(df_small)\n",
        "    SSE = model.summary.trainingCost\n",
        "    SSE_results.append(SSE)\n",
        "    print(f\"k={k}: SSE = {SSE}\")"
      ],
      "metadata": {
        "colab": {
          "base_uri": "https://localhost:8080/"
        },
        "id": "nZQu_9tKlhH7",
        "outputId": "b585d03a-b524-486e-f8a7-fdc25c4bad96"
      },
      "execution_count": 30,
      "outputs": [
        {
          "output_type": "stream",
          "name": "stdout",
          "text": [
            "k=4: SSE = 412472.931894204\n",
            "k=8: SSE = 410076.01917792147\n",
            "k=12: SSE = 408487.591079329\n",
            "k=16: SSE = 407746.2503831534\n"
          ]
        }
      ]
    },
    {
      "cell_type": "code",
      "source": [
        "#Elbow method to choose optimal k\n",
        "plt.figure(figsize=(8, 5))\n",
        "plt.plot(list(k_values), SSE_results, marker='o')\n",
        "plt.xlabel(\"Number of Clusters (k)\")\n",
        "plt.ylabel(\"Sum of Squared Errors (SSE)\")\n",
        "plt.title(\"Elbow Method\")\n",
        "plt.show()"
      ],
      "metadata": {
        "colab": {
          "base_uri": "https://localhost:8080/",
          "height": 487
        },
        "id": "DlRg7FQ8llI1",
        "outputId": "bec9dd7a-f700-4509-85ed-6b0f55e0a13a"
      },
      "execution_count": 31,
      "outputs": [
        {
          "output_type": "display_data",
          "data": {
            "text/plain": [
              "<Figure size 800x500 with 1 Axes>"
            ],
            "image/png": "[encoded data removed]"
          },
          "metadata": {}
        }
      ]
    },
    {
      "cell_type": "code",
      "source": [
        "# Train k means model with optimal k\n",
        "from pyspark.ml.clustering import KMeans\n",
        "\n",
        "kmeans = KMeans(\n",
        "    k=12,\n",
        "    initMode=\"k-means||\",\n",
        "    seed=99,\n",
        "    featuresCol=\"body_bow\"\n",
        ")\n",
        "\n",
        "model = kmeans.fit(df_small)\n"
      ],
      "metadata": {
        "id": "yo_FHUHrlnxg"
      },
      "execution_count": 32,
      "outputs": []
    },
    {
      "cell_type": "code",
      "source": [
        "# Get cluster centers and labels\n",
        "cluster_centers = model.clusterCenters()\n",
        "\n",
        "clustered_df = model.transform(df_small)\n",
        "\n",
        "labels = clustered_df.select(\"prediction\").rdd.flatMap(lambda x: x).collect()"
      ],
      "metadata": {
        "id": "QwvQm53flrIf"
      },
      "execution_count": 33,
      "outputs": []
    },
    {
      "cell_type": "code",
      "source": [
        "# Show sample predictions\n",
        "clustered_df.select(\"body_clean\", \"prediction\").show(5)"
      ],
      "metadata": {
        "colab": {
          "base_uri": "https://localhost:8080/"
        },
        "id": "v6VsEyS2ltMt",
        "outputId": "83d2b912-decf-4708-bdb1-d7fc549870d2"
      },
      "execution_count": 34,
      "outputs": [
        {
          "output_type": "stream",
          "name": "stdout",
          "text": [
            "+--------------------+----------+\n",
            "|          body_clean|prediction|\n",
            "+--------------------+----------+\n",
            "|[book, really, re...|         2|\n",
            "|[read, john, barn...|         0|\n",
            "|[picked, specials...|         0|\n",
            "|[cheaply, made, l...|         0|\n",
            "|[love, fountain, ...|         1|\n",
            "+--------------------+----------+\n",
            "only showing top 5 rows\n",
            "\n"
          ]
        }
      ]
    },
    {
      "cell_type": "code",
      "source": [
        "# count the number of documents per cluster\n",
        "from pyspark.sql.functions import count\n",
        "\n",
        "cluster_counts = clustered_df.groupBy(\"prediction\").agg(count(\"body\").alias(\"count\"))\n",
        "\n",
        "cluster_counts.orderBy(\"prediction\").show()"
      ],
      "metadata": {
        "colab": {
          "base_uri": "https://localhost:8080/"
        },
        "id": "UrE63kHglwrq",
        "outputId": "040460a6-8a42-42b7-d9e4-a8d822531cf0"
      },
      "execution_count": 35,
      "outputs": [
        {
          "output_type": "stream",
          "name": "stdout",
          "text": [
            "+----------+-----+\n",
            "|prediction|count|\n",
            "+----------+-----+\n",
            "|         0| 4585|\n",
            "|         1| 1033|\n",
            "|         2| 1053|\n",
            "|         3| 1024|\n",
            "|         4|  433|\n",
            "|         5|  987|\n",
            "|         6|    1|\n",
            "|         7|  333|\n",
            "|         8|  548|\n",
            "|         9|    1|\n",
            "|        10|    1|\n",
            "|        11|    1|\n",
            "+----------+-----+\n",
            "\n"
          ]
        }
      ]
    },
    {
      "cell_type": "code",
      "source": [
        "# Show top terms per cluster\n",
        "index_to_word = {i: word for i, word in enumerate(vocab)}\n",
        "\n",
        "print(\"Top terms per cluster:\")\n",
        "for i, center in enumerate(cluster_centers):\n",
        "    print(f\"Cluster {i}:\", end='')\n",
        "\n",
        "    top_indices = np.argsort(center)[::-1][:10]\n",
        "    for ind in top_indices:\n",
        "        term = index_to_word.get(ind, \"???\")\n",
        "        print(f' {term}', end='')\n",
        "    print()"
      ],
      "metadata": {
        "colab": {
          "base_uri": "https://localhost:8080/"
        },
        "id": "e2BraCjllyzX",
        "outputId": "135a3da2-7a47-469f-c748-2e271649936a"
      },
      "execution_count": 36,
      "outputs": [
        {
          "output_type": "stream",
          "name": "stdout",
          "text": [
            "Top terms per cluster:\n",
            "Cluster 0: like good book one well much time get love even\n",
            "Cluster 1: great like one really good book get love much price\n",
            "Cluster 2: book read one good like reading really much time great\n",
            "Cluster 3: one like get time good first well new much even\n",
            "Cluster 4: album cd like songs music good song one really great\n",
            "Cluster 5: product use time get like good work 2 even bought\n",
            "Cluster 6: washed price hand champagne worth glasses nice along thoughtful wrapped\n",
            "Cluster 7: movie good one like film time great story first movies\n",
            "Cluster 8: read book books one story like good really reading time\n",
            "Cluster 9: movie girl come ok terry ve still funny surprises weeks\n",
            "Cluster 10: files flash drive copying cd burning terms backups works xp\n",
            "Cluster 11: father believe good tale sent right little restore women grows\n"
          ]
        }
      ]
    },
    {
      "cell_type": "code",
      "source": [
        "# Plot cluster distribution\n",
        "cluster_counts_pd = cluster_counts.toPandas()\n",
        "\n",
        "import matplotlib.pyplot as plt\n",
        "\n",
        "plt.figure(figsize=(8, 5))\n",
        "plt.bar(cluster_counts_pd[\"prediction\"], cluster_counts_pd[\"count\"], alpha=0.6)\n",
        "plt.title('KMeans Cluster Point Distribution')\n",
        "plt.xlabel(\"Cluster number\")\n",
        "plt.ylabel(\"Number of points\")\n",
        "plt.xticks(cluster_counts_pd[\"prediction\"])\n",
        "plt.grid(True, linestyle='--', alpha=0.5)\n",
        "plt.show()"
      ],
      "metadata": {
        "colab": {
          "base_uri": "https://localhost:8080/",
          "height": 487
        },
        "id": "2psweX3Il2Gz",
        "outputId": "48f8a881-cd19-4765-f504-7f6e186180ae"
      },
      "execution_count": 37,
      "outputs": [
        {
          "output_type": "display_data",
          "data": {
            "text/plain": [
              "<Figure size 800x500 with 1 Axes>"
            ],
            "image/png": "[encoded data removed]"
          },
          "metadata": {}
        }
      ]
    },
    {
      "cell_type": "code",
      "source": [
        "# Show one sample reviews per cluster\n",
        "cluster_ids = [row['prediction'] for row in clustered_df.select(\"prediction\").distinct().collect()]\n",
        "\n",
        "print(\"Sample reviews per cluster:\\n\" + \"=\"*40)\n",
        "for cluster_id in cluster_ids:\n",
        "    print(f\"A review assigned to cluster {cluster_id}\")\n",
        "    print(\"-\" * 70)\n",
        "\n",
        "    sample_review = clustered_df.filter(col(\"prediction\") == cluster_id).select(\"body\").limit(1).collect()\n",
        "\n",
        "    if sample_review:\n",
        "        print(sample_review[0][\"body\"])\n",
        "    else:\n",
        "        print(\"No review found in this cluster.\")\n",
        "\n",
        "    print(\"\\n\" + \"_\" * 70)"
      ],
      "metadata": {
        "colab": {
          "base_uri": "https://localhost:8080/"
        },
        "id": "pYUzF9Vvl6kM",
        "outputId": "1c88b87a-a25a-48f6-a742-fab07f1a847a"
      },
      "execution_count": 38,
      "outputs": [
        {
          "output_type": "stream",
          "name": "stdout",
          "text": [
            "Sample reviews per cluster:\n",
            "========================================\n",
            "A review assigned to cluster 2\n",
            "----------------------------------------------------------------------\n",
            "When a book is really, really, really bad I throw it across the room. This book took its maiden flight at 11:00pm on a Saturday night on around page 85. I am going to give this book to my brother Lonnie because he keeps giving me horrible books. If he reads this...great - He will save himself from wasting a few hours. If he doesn't - I figure I owe him anyway.\n",
            "\n",
            "______________________________________________________________________\n",
            "A review assigned to cluster 0\n",
            "----------------------------------------------------------------------\n",
            "If I had not read any other John Barnes novels before this I might not have bothered and would have missed the brilliance of Mother of Storms, Orbital Resonance & Kaleidascope Century. This is a dull reworking of the 'Moon is a Harsh Mistress ' plot, with a bit of Charles Sheffield's 'Heritage' series thrown in at the end. Don't miss his other books - don't bother with this one.\n",
            "\n",
            "______________________________________________________________________\n",
            "A review assigned to cluster 1\n",
            "----------------------------------------------------------------------\n",
            "i love this fountain, look fancy in my back yard, no need to lock the uper bowls, just use some small plastic pieces as sim to level those bowls it turn out great, the shipping is super fast only two day (even though it was free shipping)\n",
            "\n",
            "______________________________________________________________________\n",
            "A review assigned to cluster 5\n",
            "----------------------------------------------------------------------\n",
            "I got this headset for my iPhone from the Apple Store.I need to use it some times with a calling card service. Most of the time, the service will not recognize my card number if the headset is on. Once I turn it off or with other head sets, it works with no problems.When it works the phone call gets interrupted often. Sound quality is always pretty bad and I get complaints from the other side also.I have a Platronics since before I got this and that works great. What possesed me to get this junk, I have no idea...\n",
            "\n",
            "______________________________________________________________________\n",
            "A review assigned to cluster 3\n",
            "----------------------------------------------------------------------\n",
            "i got a box of 100 of this cd for free from a radio station in ny due to it flop! i was flip to see them for $15 each due to i go 100 unopen cd free thay is the same cd! wooo good luck sale it, it sold so bad in the shops thay gave them away! woo no joke love to see if this sales so high if so ill post the total box one by one for 15$ each! killer mark up ! very cool\n",
            "\n",
            "______________________________________________________________________\n",
            "A review assigned to cluster 4\n",
            "----------------------------------------------------------------------\n",
            "Electronic Dance is new to this group so I do give it a star for the transition from ska-influenced pop to this....trendy, boring instrumentation, weak voice, packaged MTV goal as if they are screaming for boy band and pop princess appeal. They have those fans but will this album keep the real fans- those who have grown with them? I long for the earlier passion which this cd lacks- only took a year to put out? It shows.Dance gets old. Electronic lacks musical depth. Gwen's personality can't keep this spinning for long. It's ashame that No Doubt feels they must compete with the unoriginal chart toppers of today's music. I'll stick to the very 1st album.\n",
            "\n",
            "______________________________________________________________________\n",
            "A review assigned to cluster 7\n",
            "----------------------------------------------------------------------\n",
            "what a dog of a movie,if someone is looking for a better movie version of this story buy the new (1992) or later americanized version\n",
            "\n",
            "______________________________________________________________________\n",
            "A review assigned to cluster 8\n",
            "----------------------------------------------------------------------\n",
            "I would highly recommend this book for any serious musician who wishes to delve into the relatively unknown realm of twentieth-century piano music. David Burge provides a thorough and interesting read full of fascinating bits of information and historical context. The accompanying cd is a special bonus. Occasionally the writing turns very opinionated or biased, however this is a small distraction in an otherwise excellent resource.\n",
            "\n",
            "______________________________________________________________________\n",
            "A review assigned to cluster 11\n",
            "----------------------------------------------------------------------\n",
            "A wonderful story of life in the Middle Ages. A boy finds himself sent by his impoverished, blind father to a castle to serve as a squire. There he grows up, learns to become a knight, and begins to learn the reasons why his father had sent him there: to position him to challenge his father's enemy at the court of Henry IV and restore the family fortune and good name. A little romance even occurs for the lad. The style is a little quaint, as I believe this book was written at the end of the nineteenth century, but in the context of this tale of ancient times, it feels right anyway! A good tale for young men and women about the triumphs of right over wrong, and the importance of standing up for what you believe in. Great illustrations by the author.\n",
            "\n",
            "______________________________________________________________________\n",
            "A review assigned to cluster 10\n",
            "----------------------------------------------------------------------\n",
            "I got my flash drive for Christmas (2004) and have been using it constantly for the last 3 weeks. I can't comment on SanDisk customer support as other reviewers have. I can say that I love this flash drive.I see it not as a backup system but as a really big floppy (in terms of space).I was spending a lot of time burning CD-Rs to copy files I was working on. The flash drive has been quite convenient, and copying my files is much faster than burning a CD (and less wasteful when copying files that are works in progress).I have used it with Windows 2000 Pro and XP Home (back and forth). So far no problems.(I am taking the other reviews to heart and keeping backups of my files.)\n",
            "\n",
            "______________________________________________________________________\n",
            "A review assigned to cluster 9\n",
            "----------------------------------------------------------------------\n",
            "\"When this first came out, I watched it so often. It's still a good movie although obviously outdated in more ways than one.Terry Griffith wants to be taken seriously as a reporter, but feels that she is held back because she is a girl. What does she do? She transfers schools and dresses like a guy to write the ultimate story. Of course, she already had a boyfriend, but he's a bit of a jerk and she finds herself falling for her best male friend who doesn't know her secret. There are no surprises in this movie - it's very predictable, but it's still funny and fun to watch. Her brother Buddy is hilarious and he has the quote of the whole movie. When Terry asks him if he is OK, he sadly replies, \"\"No I'm not ok. Mom and Dad come home Monday. I've had two weeks of total freedom. The closest I've come to sex was a girl who took her top off to seduce my sister\"\". It's a classic movie that will make you laugh and is thoroughly enjoyable.\"\n",
            "\n",
            "______________________________________________________________________\n",
            "A review assigned to cluster 6\n",
            "----------------------------------------------------------------------\n",
            "\"Very nice glasses. They would make a thoughtful gift, along with a nice bottle of champagne. They are worth the price. Came very well wrapped..Sorry, have to change this review to a 1 star. We used them on our anniversary, hand-washed them, put them away in our china cabinet, no problem. I took them out and chilled them for a 40th New Year's toast. Hand-washed them, and the ruby writing on the glasses washed off. What a bummer! Now all I have are 2 PLAIN champagne flutes. Total rip-off, not worth the price because of bad \"\"paint job\"\". So much for that \"\"keepsake\"\" to pass on to the children.\"\n",
            "\n",
            "______________________________________________________________________\n"
          ]
        }
      ]
    },
    {
      "cell_type": "code",
      "source": [
        "# examine specific cluster samples\n",
        "cluster_7_reviews = clustered_df.filter(col(\"prediction\") == 7).select(\"body\").orderBy(F.rand()).limit(3)\n",
        "\n",
        "print(\"Sample reviews from Cluster 7:\")\n",
        "cluster_7_reviews.show(truncate=False)"
      ],
      "metadata": {
        "colab": {
          "base_uri": "https://localhost:8080/"
        },
        "id": "JewlE3TUl9vh",
        "outputId": "e11afa78-a69b-4435-ac5b-bce74fd1dd3b"
      },
      "execution_count": 39,
      "outputs": [
        {
          "output_type": "stream",
          "name": "stdout",
          "text": [
            "Sample reviews from Cluster 7:\n",
            "+---------------------------------------------------------------------------------------------------------------------------------------------------------------------------------------------------------------------------------------------------------------------------------------------------------------------------------------------------------------------------------------------------------------------------------------------------------------------------------------------------------------------------------------------------------------------------------------+\n",
            "|body                                                                                                                                                                                                                                                                                                                                                                                                                                                                                                                                                                                   |\n",
            "+---------------------------------------------------------------------------------------------------------------------------------------------------------------------------------------------------------------------------------------------------------------------------------------------------------------------------------------------------------------------------------------------------------------------------------------------------------------------------------------------------------------------------------------------------------------------------------------+\n",
            "|I have seen the stage play and it was amazing. So when I heard about this movie I got very excited. I couldn't wait for it to come out. I finally went and saw it. And I thought it was amazing. The sets were bright with color and looked like the sets from the play. Even though the actors in the film aren't very well know they were also good. Alot of people didn't like Gerald Butler as the Phantom, but I thought he was a great phantom. I loved the Masquerade scene. I almost like it better than the play. Everything is dazziling, well filmed, and full of eye candy!|\n",
            "|Not gonna say much, this movie was different from what i was expecting from the trailers, i was expecting a more epic adventure to change the course of a young girls life as she was being forced by the trappings of traditional female roles to become something she wasnt, and while that is evident in this move its not all there is to it. By and large i love this movie, i think its one of pixar's best though i still hold Finding Nemo and Wall-e above it. A good movie with stunning graphics, and who dosent love Scotland?                                             |\n",
            "|Definitely in my top 10 horror movies of all time.This movie is far from perfect, as a matter fact in order to enjoy this movie you will need to ignore several holes in the story.The grail being protected by defenseless, harmless monks being one of them.The story drags a little towards the end but overall, great movie. As opposed to MOST vampire movies, there is nothing romantic or poetic about these monsters.                                                                                                                                                          |\n",
            "+---------------------------------------------------------------------------------------------------------------------------------------------------------------------------------------------------------------------------------------------------------------------------------------------------------------------------------------------------------------------------------------------------------------------------------------------------------------------------------------------------------------------------------------------------------------------------------------+\n",
            "\n"
          ]
        }
      ]
    }
  ]
}